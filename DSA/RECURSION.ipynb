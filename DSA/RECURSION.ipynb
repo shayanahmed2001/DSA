{
 "cells": [
  {
   "cell_type": "code",
   "execution_count": 6,
   "id": "19ac7ca5",
   "metadata": {},
   "outputs": [],
   "source": [
    "def recursion(n):\n",
    "    if(n<1):\n",
    "        print(n,'n is less than one')\n",
    "    else:\n",
    "        recursion(n-1)#from here n is entered\n",
    "        print(n)"
   ]
  },
  {
   "cell_type": "code",
   "execution_count": 7,
   "id": "32857a45",
   "metadata": {},
   "outputs": [
    {
     "name": "stdout",
     "output_type": "stream",
     "text": [
      "0 n is less than one\n",
      "1\n",
      "2\n",
      "3\n",
      "4\n"
     ]
    }
   ],
   "source": [
    "recursion(4)"
   ]
  },
  {
   "cell_type": "code",
   "execution_count": 9,
   "id": "ca758460",
   "metadata": {},
   "outputs": [],
   "source": [
    "def powerofTwo(n):\n",
    "    if n==0:\n",
    "        return 1\n",
    "    else:\n",
    "        power=powerofTwo(n-1)\n",
    "        return power*2"
   ]
  },
  {
   "cell_type": "code",
   "execution_count": 10,
   "id": "475daf3a",
   "metadata": {},
   "outputs": [
    {
     "data": {
      "text/plain": [
       "16"
      ]
     },
     "execution_count": 10,
     "metadata": {},
     "output_type": "execute_result"
    }
   ],
   "source": [
    "powerofTwo(4)"
   ]
  },
  {
   "cell_type": "code",
   "execution_count": 11,
   "id": "2d3d44ed",
   "metadata": {},
   "outputs": [
    {
     "data": {
      "text/plain": [
       "16"
      ]
     },
     "execution_count": 11,
     "metadata": {},
     "output_type": "execute_result"
    }
   ],
   "source": [
    "def poweroftwoit(n):\n",
    "    i=0\n",
    "    power=1\n",
    "    while i<n:\n",
    "        power=power*2\n",
    "        i=i+1\n",
    "    return power \n",
    "poweroftwoit(4)"
   ]
  },
  {
   "cell_type": "code",
   "execution_count": 19,
   "id": "ec0802f8",
   "metadata": {},
   "outputs": [
    {
     "data": {
      "text/plain": [
       "True"
      ]
     },
     "execution_count": 19,
     "metadata": {},
     "output_type": "execute_result"
    }
   ],
   "source": [
    "def power(x,n):\n",
    "    if(2**x==n):\n",
    "        return True\n",
    "    else:\n",
    "        return False\n",
    "    \n",
    "power(5,32)    "
   ]
  },
  {
   "cell_type": "code",
   "execution_count": 33,
   "id": "af85b1ef",
   "metadata": {},
   "outputs": [],
   "source": [
    "def power(n):\n",
    "    i=2\n",
    "    x=0\n",
    "    while(i**x<n):\n",
    "        if(i**x==n):\n",
    "            return True\n",
    "        x+=1\n",
    "    return False    "
   ]
  },
  {
   "cell_type": "code",
   "execution_count": 34,
   "id": "8bd52329",
   "metadata": {},
   "outputs": [
    {
     "data": {
      "text/plain": [
       "False"
      ]
     },
     "execution_count": 34,
     "metadata": {},
     "output_type": "execute_result"
    }
   ],
   "source": [
    "power(127)"
   ]
  },
  {
   "cell_type": "code",
   "execution_count": 1,
   "id": "f0f48a57",
   "metadata": {},
   "outputs": [
    {
     "data": {
      "text/plain": [
       "False"
      ]
     },
     "execution_count": 1,
     "metadata": {},
     "output_type": "execute_result"
    }
   ],
   "source": [
    "def power(x,n):\n",
    "    if(2**x==n):\n",
    "        return True\n",
    "    else:\n",
    "        power(x+1,n)\n",
    "    return False\n",
    "power(0,16)"
   ]
  },
  {
   "cell_type": "code",
   "execution_count": 1,
   "id": "d808e6bd",
   "metadata": {},
   "outputs": [],
   "source": [
    "def power(x,n):\n",
    "    if(2**x==n):\n",
    "        return True\n",
    "    elif(2**x<n):\n",
    "        return power(x+1,n)\n",
    "    else:\n",
    "        return False"
   ]
  },
  {
   "cell_type": "code",
   "execution_count": 2,
   "id": "43c73061",
   "metadata": {},
   "outputs": [
    {
     "data": {
      "text/plain": [
       "False"
      ]
     },
     "execution_count": 2,
     "metadata": {},
     "output_type": "execute_result"
    }
   ],
   "source": [
    "power(0,30)"
   ]
  },
  {
   "cell_type": "markdown",
   "id": "2345bb18",
   "metadata": {},
   "source": [
    "# PowerOfTwo\n"
   ]
  },
  {
   "cell_type": "code",
   "execution_count": null,
   "id": "c63ebb51",
   "metadata": {},
   "outputs": [],
   "source": [
    "class Solution:\n",
    "    def isPowerOfTwo(self, n: int) -> bool:\n",
    "        \"\"\"\n",
    "        :type n: int\n",
    "        :rtype: bool\n",
    "        \"\"\"\n",
    "        return self.power(0,n) \n",
    "    def power(self,x,n):\n",
    "        if(2**x==n):\n",
    "            return True\n",
    "        elif(2**x!=n and x<=31):\n",
    "            return self.power(x+1,n)\n",
    "        else:\n",
    "            return False    \n",
    "\n",
    "\n",
    "        "
   ]
  },
  {
   "cell_type": "markdown",
   "id": "148b4b38",
   "metadata": {},
   "source": [
    "# PowerOfFour\n"
   ]
  },
  {
   "cell_type": "code",
   "execution_count": 5,
   "id": "72de03be",
   "metadata": {},
   "outputs": [
    {
     "ename": "SyntaxError",
     "evalue": "invalid syntax (4264003924.py, line 1)",
     "output_type": "error",
     "traceback": [
      "\u001b[1;36m  File \u001b[1;32m\"C:\\Users\\Admin\\AppData\\Local\\Temp\\ipykernel_25592\\4264003924.py\"\u001b[1;36m, line \u001b[1;32m1\u001b[0m\n\u001b[1;33m    lass Solution(object):\u001b[0m\n\u001b[1;37m         ^\u001b[0m\n\u001b[1;31mSyntaxError\u001b[0m\u001b[1;31m:\u001b[0m invalid syntax\n"
     ]
    }
   ],
   "source": [
    "lass Solution(object):\n",
    "    def isPowerOfFour(self, n):\n",
    "        \"\"\"\n",
    "        :type n: int\n",
    "        :rtype: bool\n",
    "        \"\"\"\n",
    "        return self.power(n,0)\n",
    "\n",
    "    def power(self,n,x):\n",
    "        if(4**x==n):\n",
    "            return True\n",
    "        elif(4**x!=n and x<=31):\n",
    "            return self.power(n,x+1)\n",
    "        else:\n",
    "            return False    "
   ]
  },
  {
   "cell_type": "markdown",
   "id": "70e71c45",
   "metadata": {},
   "source": [
    "# PowerOfThree"
   ]
  },
  {
   "cell_type": "code",
   "execution_count": 6,
   "id": "4702a1fb",
   "metadata": {},
   "outputs": [],
   "source": [
    "class Solution:\n",
    "    def isPowerOfThree(self, n: int) -> bool:\n",
    "        return self.power(0,n)\n",
    "    def power(self,x,n):\n",
    "        if(3**x==n):\n",
    "            return True\n",
    "        elif(3**x!=n and x<=31):\n",
    "            return self.power(x+1,n)\n",
    "        else:\n",
    "            return False            \n",
    "        "
   ]
  },
  {
   "cell_type": "markdown",
   "id": "56cb7702",
   "metadata": {},
   "source": [
    "# Fibonacci Number Using Recursion"
   ]
  },
  {
   "cell_type": "code",
   "execution_count": null,
   "id": "bda2548a",
   "metadata": {},
   "outputs": [],
   "source": [
    "class Solution:\n",
    "    def fib(self, n: int) -> int:\n",
    "        if(n==0 or n==1):\n",
    "            return n\n",
    "        else:\n",
    "            return self.mynum(0,1,n,1)\n",
    "    def mynum(self,a,b,n,i):\n",
    "        if(i==n-1):\n",
    "            return(a+b) \n",
    "        else:\n",
    "            return self.mynum(b,b+a,n,i+1)                    \n"
   ]
  },
  {
   "cell_type": "code",
   "execution_count": null,
   "id": "fe597017",
   "metadata": {},
   "outputs": [],
   "source": []
  }
 ],
 "metadata": {
  "kernelspec": {
   "display_name": "Python 3 (ipykernel)",
   "language": "python",
   "name": "python3"
  },
  "language_info": {
   "codemirror_mode": {
    "name": "ipython",
    "version": 3
   },
   "file_extension": ".py",
   "mimetype": "text/x-python",
   "name": "python",
   "nbconvert_exporter": "python",
   "pygments_lexer": "ipython3",
   "version": "3.9.13"
  }
 },
 "nbformat": 4,
 "nbformat_minor": 5
}
